{
  "nbformat": 4,
  "nbformat_minor": 0,
  "metadata": {
    "colab": {
      "provenance": [],
      "authorship_tag": "ABX9TyN1dSJ66gUE+NZXdtB956Uq",
      "include_colab_link": true
    },
    "kernelspec": {
      "name": "python3",
      "display_name": "Python 3"
    },
    "language_info": {
      "name": "python"
    }
  },
  "cells": [
    {
      "cell_type": "markdown",
      "metadata": {
        "id": "view-in-github",
        "colab_type": "text"
      },
      "source": [
        "<a href=\"https://colab.research.google.com/github/littleduck1219/Electricity_meter/blob/main/OCR.ipynb\" target=\"_parent\"><img src=\"https://colab.research.google.com/assets/colab-badge.svg\" alt=\"Open In Colab\"/></a>"
      ]
    },
    {
      "cell_type": "code",
      "source": [
        "!pip install tesseract\n",
        "!pip install tesseract-ocr\n",
        "!sudo apt-get install tesseract-ocr\n",
        "!pip install pytesseract"
      ],
      "metadata": {
        "colab": {
          "base_uri": "https://localhost:8080/"
        },
        "id": "YHUrzT0R2_Av",
        "outputId": "235d96d7-bf7d-453f-b85e-5aef59ff6697"
      },
      "execution_count": 7,
      "outputs": [
        {
          "output_type": "stream",
          "name": "stdout",
          "text": [
            "Looking in indexes: https://pypi.org/simple, https://us-python.pkg.dev/colab-wheels/public/simple/\n",
            "Requirement already satisfied: tesseract in /usr/local/lib/python3.9/dist-packages (0.1.3)\n",
            "Looking in indexes: https://pypi.org/simple, https://us-python.pkg.dev/colab-wheels/public/simple/\n",
            "Collecting tesseract-ocr\n",
            "  Using cached tesseract-ocr-0.0.1.tar.gz (33 kB)\n",
            "  Preparing metadata (setup.py) ... \u001b[?25l\u001b[?25hdone\n",
            "Requirement already satisfied: cython in /usr/local/lib/python3.9/dist-packages (from tesseract-ocr) (0.29.33)\n",
            "Building wheels for collected packages: tesseract-ocr\n",
            "  \u001b[1;31merror\u001b[0m: \u001b[1msubprocess-exited-with-error\u001b[0m\n",
            "  \n",
            "  \u001b[31m×\u001b[0m \u001b[32mpython setup.py bdist_wheel\u001b[0m did not run successfully.\n",
            "  \u001b[31m│\u001b[0m exit code: \u001b[1;36m1\u001b[0m\n",
            "  \u001b[31m╰─>\u001b[0m See above for output.\n",
            "  \n",
            "  \u001b[1;35mnote\u001b[0m: This error originates from a subprocess, and is likely not a problem with pip.\n",
            "  Building wheel for tesseract-ocr (setup.py) ... \u001b[?25lerror\n",
            "\u001b[31m  ERROR: Failed building wheel for tesseract-ocr\u001b[0m\u001b[31m\n",
            "\u001b[0m\u001b[?25h  Running setup.py clean for tesseract-ocr\n",
            "Failed to build tesseract-ocr\n",
            "Installing collected packages: tesseract-ocr\n",
            "  \u001b[1;31merror\u001b[0m: \u001b[1msubprocess-exited-with-error\u001b[0m\n",
            "  \n",
            "  \u001b[31m×\u001b[0m \u001b[32mRunning setup.py install for tesseract-ocr\u001b[0m did not run successfully.\n",
            "  \u001b[31m│\u001b[0m exit code: \u001b[1;36m1\u001b[0m\n",
            "  \u001b[31m╰─>\u001b[0m See above for output.\n",
            "  \n",
            "  \u001b[1;35mnote\u001b[0m: This error originates from a subprocess, and is likely not a problem with pip.\n",
            "  Running setup.py install for tesseract-ocr ... \u001b[?25l\u001b[?25herror\n",
            "\u001b[1;31merror\u001b[0m: \u001b[1mlegacy-install-failure\u001b[0m\n",
            "\n",
            "\u001b[31m×\u001b[0m Encountered error while trying to install package.\n",
            "\u001b[31m╰─>\u001b[0m tesseract-ocr\n",
            "\n",
            "\u001b[1;35mnote\u001b[0m: This is an issue with the package mentioned above, not pip.\n",
            "\u001b[1;36mhint\u001b[0m: See above for output from the failure.\n",
            "Reading package lists... Done\n",
            "Building dependency tree       \n",
            "Reading state information... Done\n",
            "tesseract-ocr is already the newest version (4.1.1-2build2).\n",
            "0 upgraded, 0 newly installed, 0 to remove and 22 not upgraded.\n",
            "Looking in indexes: https://pypi.org/simple, https://us-python.pkg.dev/colab-wheels/public/simple/\n",
            "Requirement already satisfied: pytesseract in /usr/local/lib/python3.9/dist-packages (0.3.10)\n",
            "Requirement already satisfied: Pillow>=8.0.0 in /usr/local/lib/python3.9/dist-packages (from pytesseract) (8.4.0)\n",
            "Requirement already satisfied: packaging>=21.3 in /usr/local/lib/python3.9/dist-packages (from pytesseract) (23.0)\n"
          ]
        }
      ]
    },
    {
      "cell_type": "code",
      "execution_count": 8,
      "metadata": {
        "id": "tjnmvBsm2Qy1"
      },
      "outputs": [],
      "source": [
        "from pytesseract import Output\n",
        "import pytesseract\n",
        "import cv2\n",
        "import os\n",
        "import glob\n",
        "import random\n",
        "from PIL import Image\n",
        "from torch.utils.data import Dataset\n",
        "from google.colab.patches import cv2_imshow"
      ]
    },
    {
      "cell_type": "code",
      "source": [
        "# mount google drive\n",
        "from google.colab import drive\n",
        "drive.mount(\"/content/drive\")"
      ],
      "metadata": {
        "colab": {
          "base_uri": "https://localhost:8080/"
        },
        "id": "wlvrrGUK2f2H",
        "outputId": "e9a0aea7-df4a-4571-aa4c-f9f51cd0732b"
      },
      "execution_count": 9,
      "outputs": [
        {
          "output_type": "stream",
          "name": "stdout",
          "text": [
            "Drive already mounted at /content/drive; to attempt to forcibly remount, call drive.mount(\"/content/drive\", force_remount=True).\n"
          ]
        }
      ]
    },
    {
      "cell_type": "code",
      "source": [
        "import zipfile\n",
        "\n",
        "zip_path = \"/content/drive/MyDrive/dataset/crop_image.zip\"\n",
        "zip_object = zipfile.ZipFile(file = zip_path, mode = \"r\")\n",
        "zip_object.extractall(\"./crop_1\")\n",
        "zip_object.close()"
      ],
      "metadata": {
        "id": "rnKJ0u442ixL"
      },
      "execution_count": 12,
      "outputs": []
    },
    {
      "cell_type": "code",
      "source": [
        "class OCR_image(Dataset):\n",
        "  def __init__(self, path, transform=None):\n",
        "    self.all_data = glob.glob(os.path.join(path, \"*.jpg\"))\n",
        "\n",
        "  def __getitem__(self, item):\n",
        "    # image path\n",
        "    image_path = self.all_data[item]\n",
        "\n",
        "    # image read\n",
        "    image = cv2.imread(image_path)\n",
        "    gray_image = cv2.cvtColor(image, cv2.COLOR_RGB2GRAY)\n",
        "    extractedInformation = pytesseract.image_to_string(Image.open(image_path))\n",
        "    print(extractedInformation)\n",
        "\n",
        "  def __len__(self):\n",
        "    pass\n",
        "\n",
        "test = OCR_image(\"/content/crop_1/\")\n",
        "for i in test:\n",
        "  print(i)"
      ],
      "metadata": {
        "colab": {
          "base_uri": "https://localhost:8080/"
        },
        "id": "NuDV_D5A6JAf",
        "outputId": "9f288569-690e-4a12-898c-7dd9ffc13c03"
      },
      "execution_count": 11,
      "outputs": [
        {
          "output_type": "stream",
          "name": "stdout",
          "text": [
            "\f\n",
            "None\n",
            " \n",
            "\f\n",
            "None\n",
            "as.\n",
            "\f\n",
            "None\n",
            " \n",
            "\f\n",
            "None\n",
            "\f\n",
            "None\n",
            "~ 84555\n",
            "\f\n",
            "None\n",
            " \n",
            "\f\n",
            "None\n",
            " \n",
            "\f\n",
            "None\n",
            "\f\n",
            "None\n",
            "\f\n",
            "None\n",
            "\f\n",
            "None\n",
            "\f\n",
            "None\n",
            "\f\n",
            "None\n",
            " \n",
            "\f\n",
            "None\n",
            "\f\n",
            "None\n",
            " \n",
            "\f\n",
            "None\n",
            "THe\n",
            "ue\n",
            "\n",
            " \n",
            "\f\n",
            "None\n",
            "\f\n",
            "None\n",
            "\f\n",
            "None\n",
            "ME\n",
            "\f\n",
            "None\n",
            "\f\n",
            "None\n",
            " \n",
            "\f\n",
            "None\n",
            "   \n",
            "\f\n",
            "None\n",
            "\f\n",
            "None\n",
            "aann 2\n",
            "\f\n",
            "None\n",
            "\f\n",
            "None\n",
            "\f\n",
            "None\n",
            " \n",
            "\f\n",
            "None\n",
            "\f\n",
            "None\n",
            "\f\n",
            "None\n",
            "\f\n",
            "None\n",
            "\f\n",
            "None\n",
            " \n",
            "\f\n",
            "None\n",
            "\f\n",
            "None\n",
            "few\n",
            "\f\n",
            "None\n",
            "\f\n",
            "None\n",
            "\f\n",
            "None\n",
            "\f\n",
            "None\n",
            "og ae 9.\n",
            "\f\n",
            "None\n",
            "\f\n",
            "None\n",
            "\f\n",
            "None\n",
            "bua 256.4)\n",
            "\f\n",
            "None\n",
            "\f\n",
            "None\n",
            " \n",
            "\f\n",
            "None\n",
            "ee\n",
            "= a\n",
            "\n",
            "  \n",
            "\f\n",
            "None\n",
            "\f\n",
            "None\n",
            " \n",
            "\f\n",
            "None\n",
            "\f\n",
            "None\n",
            "\f\n",
            "None\n",
            "\f\n",
            "None\n",
            " \n",
            "\f\n",
            "None\n",
            "\f\n",
            "None\n",
            "\f\n",
            "None\n",
            "\f\n",
            "None\n",
            "\f\n",
            "None\n",
            " \n",
            "\f\n",
            "None\n"
          ]
        }
      ]
    },
    {
      "cell_type": "code",
      "source": [
        "\n"
      ],
      "metadata": {
        "id": "yBnqYRPk6tes"
      },
      "execution_count": null,
      "outputs": []
    }
  ]
}